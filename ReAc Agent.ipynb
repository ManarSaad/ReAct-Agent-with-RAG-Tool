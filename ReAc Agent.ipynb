{
 "cells": [
  {
   "cell_type": "code",
   "execution_count": 9,
   "metadata": {},
   "outputs": [],
   "source": [
    "from llama_index.core import (\n",
    "    SimpleDirectoryReader,\n",
    "    VectorStoreIndex,\n",
    "    StorageContext,\n",
    "    load_index_from_storage,\n",
    ")\n",
    "\n",
    "from llama_index.core.tools import QueryEngineTool, ToolMetadata"
   ]
  },
  {
   "cell_type": "code",
   "execution_count": 17,
   "metadata": {},
   "outputs": [],
   "source": [
    "OPENAI_API_KEY='sk'\n",
    "import os\n",
    "\n",
    "os.environ[\"OPENAI_API_KEY\"] = OPENAI_API_KEY"
   ]
  },
  {
   "cell_type": "code",
   "execution_count": 18,
   "metadata": {},
   "outputs": [],
   "source": [
    "from llama_index.embeddings.openai import OpenAIEmbedding\n",
    "from llama_index.core import Settings"
   ]
  },
  {
   "cell_type": "code",
   "execution_count": null,
   "metadata": {},
   "outputs": [],
   "source": []
  },
  {
   "cell_type": "code",
   "execution_count": 19,
   "metadata": {},
   "outputs": [],
   "source": [
    "try:\n",
    "    storage_context = StorageContext.from_defaults(\n",
    "        persist_dir=\"./storage/Aseer\"\n",
    "    )\n",
    "    lyft_index = load_index_from_storage(storage_context)\n",
    "\n",
    "    storage_context = StorageContext.from_defaults(\n",
    "        persist_dir=\"./storage/Riyadh\"\n",
    "    )\n",
    "    uber_index = load_index_from_storage(storage_context)\n",
    "\n",
    "    index_loaded = True\n",
    "except:\n",
    "    index_loaded = False"
   ]
  },
  {
   "cell_type": "code",
   "execution_count": 11,
   "metadata": {},
   "outputs": [],
   "source": [
    "from llama_index.readers.file.docs.base import DocxReader, HWPReader"
   ]
  },
  {
   "cell_type": "code",
   "execution_count": 20,
   "metadata": {},
   "outputs": [],
   "source": [
    "if not index_loaded:\n",
    "    # load data\n",
    "    Aseer_docs = SimpleDirectoryReader(\n",
    "        input_files=[\"Evolution-of-Population-in-Aseer-by-Gender.pdf\"]\n",
    "    ).load_data()\n",
    "    Riyadh_docs = SimpleDirectoryReader(\n",
    "        input_files=[\"Evolution-of-Population-in-Al-Riyadh-by-Gender.pdf\"]\n",
    "    ).load_data()\n",
    "\n",
    "    # build index\n",
    "    Aseer_index = VectorStoreIndex.from_documents(Aseer_docs)\n",
    "    Riyadh_index = VectorStoreIndex.from_documents(Riyadh_docs)\n",
    "\n",
    "    # persist index\n",
    "    Aseer_index.storage_context.persist(persist_dir=\"./storage/Aseer\")\n",
    "    Riyadh_index.storage_context.persist(persist_dir=\"../storage/Riyadh\")"
   ]
  },
  {
   "cell_type": "code",
   "execution_count": 21,
   "metadata": {},
   "outputs": [
    {
     "data": {
      "text/plain": [
       "<llama_index.core.indices.vector_store.base.VectorStoreIndex at 0x162b32d6660>"
      ]
     },
     "execution_count": 21,
     "metadata": {},
     "output_type": "execute_result"
    }
   ],
   "source": [
    "Aseer_index"
   ]
  },
  {
   "cell_type": "code",
   "execution_count": 22,
   "metadata": {},
   "outputs": [],
   "source": [
    "Aseer_engine = Aseer_index.as_query_engine(similarity_top_k=3)\n",
    "Riyadh_engine = Riyadh_index.as_query_engine(similarity_top_k=3)"
   ]
  },
  {
   "cell_type": "code",
   "execution_count": 23,
   "metadata": {},
   "outputs": [
    {
     "data": {
      "text/plain": [
       "<llama_index.core.query_engine.retriever_query_engine.RetrieverQueryEngine at 0x162b3584ce0>"
      ]
     },
     "execution_count": 23,
     "metadata": {},
     "output_type": "execute_result"
    }
   ],
   "source": [
    "Aseer_engine"
   ]
  },
  {
   "cell_type": "code",
   "execution_count": 26,
   "metadata": {},
   "outputs": [],
   "source": [
    "query_engine_tools = [\n",
    "    QueryEngineTool(\n",
    "        query_engine=Aseer_engine,\n",
    "        metadata=ToolMetadata(\n",
    "            name=\"aseer_population\",\n",
    "            description=(\n",
    "                \"Provides information about Aseer population from 2010 to 2022 \"\n",
    "                \"Use a detailed plain text question as input to the tool.\"\n",
    "            ),\n",
    "        ),\n",
    "    ),\n",
    "    QueryEngineTool(\n",
    "        query_engine=Riyadh_engine,\n",
    "        metadata=ToolMetadata(\n",
    "            name=\"riyadh_population\",\n",
    "            description=(\n",
    "                \"Provides information about Riyadh population from 2010 to 2022 \"\n",
    "                \"Use a detailed plain text question as input to the tool.\"\n",
    "            ),\n",
    "        ),\n",
    "    ),\n",
    "]"
   ]
  },
  {
   "cell_type": "code",
   "execution_count": 24,
   "metadata": {},
   "outputs": [],
   "source": [
    "from llama_index.core.agent import ReActAgent\n",
    "from llama_index.llms.openai import OpenAI"
   ]
  },
  {
   "cell_type": "code",
   "execution_count": 29,
   "metadata": {},
   "outputs": [
    {
     "name": "stdout",
     "output_type": "stream",
     "text": [
      "> Running step 46bf5a2e-49b9-42f9-b5c4-a67e363a6344. Step input: What was Aseer population growth percentage of females from 2012 to 2014\n",
      "\u001b[1;3;38;5;200mThought: The user is asking about the population growth percentage of females in Aseer from 2012 to 2014. I can use the \"aseer_population\" tool to get the population data for these years and calculate the growth percentage.\n",
      "Action: aseer_population\n",
      "Action Input: {'input': 'population growth percentage of females from 2012 to 2014'}\n",
      "\u001b[0m\u001b[1;3;34mObservation: The population growth percentage of females from 2012 to 2014 is 5.8%.\n",
      "\u001b[0m> Running step 20e1d8eb-e7db-4543-aa24-37fb3a916882. Step input: None\n",
      "\u001b[1;3;38;5;200mThought: I have obtained the information about the population growth percentage of females in Aseer from 2012 to 2014. I can now provide the answer to the user's question.\n",
      "Answer: The population growth percentage of females in Aseer from 2012 to 2014 is 5.8%.\n",
      "\u001b[0mThe population growth percentage of females in Aseer from 2012 to 2014 is 5.8%.\n"
     ]
    }
   ],
   "source": [
    "\n",
    "llm = OpenAI(model=\"gpt-3.5-turbo-0613\")\n",
    "\n",
    "agent = ReActAgent.from_tools(\n",
    "    query_engine_tools,\n",
    "    llm=llm,\n",
    "    verbose=True,\n",
    "    # context=context\n",
    ")\n",
    "\n",
    "response = agent.chat(\"What was Aseer population growth percentage of females from 2012 to 2014\")\n",
    "print(str(response))"
   ]
  },
  {
   "cell_type": "code",
   "execution_count": 32,
   "metadata": {},
   "outputs": [
    {
     "name": "stdout",
     "output_type": "stream",
     "text": [
      "> Running step 3ea09f42-c8a3-4920-af8a-d1e999887860. Step input: Compare and contrast the total population growth of Aseer and Riyadh from 2016 till 2022, give the percentage of growth, then give an analysis\n",
      "\u001b[1;3;38;5;200mThought: The current language of the user is: English. I need to use a tool to help me answer the question.\n",
      "Action: aseer_population\n",
      "Action Input: {'input': 'total population from 2016 to 2022'}\n",
      "\u001b[0m\u001b[1;3;34mObservation: The total population from 2016 to 2022 in Aseer was 1863056, 1879189, 1863690, 1876328, 1958677, 1943532, and 2024285 respectively.\n",
      "\u001b[0m> Running step ac6f090b-5997-4f9c-87ff-a7103360720a. Step input: None\n",
      "\u001b[1;3;38;5;200mThought: The current language of the user is: English. I need to use a tool to help me answer the question.\n",
      "Action: riyadh_population\n",
      "Action Input: {'input': 'total population from 2016 to 2022'}\n",
      "\u001b[0m\u001b[1;3;34mObservation: The total population from 2016 to 2022 in Al-Riyadh is 8,271,126 in 2016, 8,275,538 in 2017, 8,030,674 in 2018, 7,979,262 in 2019, 8,422,408 in 2020, 8,175,378 in 2021, and 8,591,748 in 2022.\n",
      "\u001b[0m> Running step 32a82979-3085-4b00-b0b9-ad999b4fde67. Step input: None\n",
      "\u001b[1;3;34mObservation: Error: Could not parse output. Please follow the thought-action-input format. Try again.\n",
      "\u001b[0m> Running step aaac9b2c-1865-4216-891b-79bdfd695deb. Step input: None\n",
      "\u001b[1;3;38;5;200mThought: The current language of the user is: English. I need to use a tool to help me answer the question.\n",
      "Action: riyadh_population\n",
      "Action Input: {'input': 'total population from 2016 to 2022'}\n",
      "\u001b[0m\u001b[1;3;34mObservation: The total population from 2016 to 2022 in Al-Riyadh was 8271126 in 2016, 8275538 in 2017, 8030674 in 2018, 7979262 in 2019, 8422408 in 2020, 8175378 in 2021, and 8591748 in 2022.\n",
      "\u001b[0m> Running step 4ff4fb25-c30e-4db1-96e1-6218482d749c. Step input: None\n",
      "\u001b[1;3;38;5;200mThought: I have the total population data for Aseer and Riyadh from 2016 to 2022. Now I can calculate the population growth and percentage growth for both regions.\n",
      "Answer: The total population growth in Aseer from 2016 to 2022 was as follows:\n",
      "- 2016: 1,863,056\n",
      "- 2017: 1,879,189\n",
      "- 2018: 1,863,690\n",
      "- 2019: 1,876,328\n",
      "- 2020: 1,958,677\n",
      "- 2021: 1,943,532\n",
      "- 2022: 2,024,285\n",
      "\n",
      "The total population growth in Riyadh from 2016 to 2022 was as follows:\n",
      "- 2016: 8,271,126\n",
      "- 2017: 8,275,538\n",
      "- 2018: 8,030,674\n",
      "- 2019: 7,979,262\n",
      "- 2020: 8,422,408\n",
      "- 2021: 8,175,378\n",
      "- 2022: 8,591,748\n",
      "\n",
      "The percentage growth of population in Aseer from 2016 to 2022 is as follows:\n",
      "- 2016-2017: 0.87%\n",
      "- 2017-2018: -0.83%\n",
      "- 2018-2019: 0.68%\n",
      "- 2019-2020: 4.38%\n",
      "- 2020-2021: -0.77%\n",
      "- 2021-2022: 4.16%\n",
      "\n",
      "The percentage growth of population in Riyadh from 2016 to 2022 is as follows:\n",
      "- 2016-2017: 0.05%\n",
      "- 2017-2018: -2.96%\n",
      "- 2018-2019: -0.64%\n",
      "- 2019-2020: 5.19%\n",
      "- 2020-2021: -3.00%\n",
      "- 2021-2022: 5.09%\n",
      "\n",
      "Analysis:\n",
      "- Aseer experienced fluctuating population growth from 2016 to 2022, with some years showing positive growth and others showing negative growth. The highest growth rate was observed from 2019 to 2020, with a 4.38% increase in population.\n",
      "- Riyadh also had fluctuating population growth during the same period, but the overall growth rate was lower compared to Aseer. The highest growth rate in Riyadh was observed from 2019 to 2020, with a 5.19% increase in population.\n",
      "- Overall, Aseer had a higher population growth rate compared to Riyadh during this period, indicating a potentially faster rate of development and urbanization in Aseer.\n",
      "\u001b[0mThe total population growth in Aseer from 2016 to 2022 was as follows:\n",
      "- 2016: 1,863,056\n",
      "- 2017: 1,879,189\n",
      "- 2018: 1,863,690\n",
      "- 2019: 1,876,328\n",
      "- 2020: 1,958,677\n",
      "- 2021: 1,943,532\n",
      "- 2022: 2,024,285\n",
      "\n",
      "The total population growth in Riyadh from 2016 to 2022 was as follows:\n",
      "- 2016: 8,271,126\n",
      "- 2017: 8,275,538\n",
      "- 2018: 8,030,674\n",
      "- 2019: 7,979,262\n",
      "- 2020: 8,422,408\n",
      "- 2021: 8,175,378\n",
      "- 2022: 8,591,748\n",
      "\n",
      "The percentage growth of population in Aseer from 2016 to 2022 is as follows:\n",
      "- 2016-2017: 0.87%\n",
      "- 2017-2018: -0.83%\n",
      "- 2018-2019: 0.68%\n",
      "- 2019-2020: 4.38%\n",
      "- 2020-2021: -0.77%\n",
      "- 2021-2022: 4.16%\n",
      "\n",
      "The percentage growth of population in Riyadh from 2016 to 2022 is as follows:\n",
      "- 2016-2017: 0.05%\n",
      "- 2017-2018: -2.96%\n",
      "- 2018-2019: -0.64%\n",
      "- 2019-2020: 5.19%\n",
      "- 2020-2021: -3.00%\n",
      "- 2021-2022: 5.09%\n",
      "\n",
      "Analysis:\n",
      "- Aseer experienced fluctuating population growth from 2016 to 2022, with some years showing positive growth and others showing negative growth. The highest growth rate was observed from 2019 to 2020, with a 4.38% increase in population.\n",
      "- Riyadh also had fluctuating population growth during the same period, but the overall growth rate was lower compared to Aseer. The highest growth rate in Riyadh was observed from 2019 to 2020, with a 5.19% increase in population.\n",
      "- Overall, Aseer had a higher population growth rate compared to Riyadh during this period, indicating a potentially faster rate of development and urbanization in Aseer.\n"
     ]
    }
   ],
   "source": [
    "response = agent.chat(\n",
    "    \"Compare and contrast the total population growth of Aseer and Riyadh from 2016 till 2022, give the percentage of growth, then\"\n",
    "    \" give an analysis\"\n",
    ")\n",
    "print(str(response))"
   ]
  }
 ],
 "metadata": {
  "kernelspec": {
   "display_name": "Python 3",
   "language": "python",
   "name": "python3"
  },
  "language_info": {
   "codemirror_mode": {
    "name": "ipython",
    "version": 3
   },
   "file_extension": ".py",
   "mimetype": "text/x-python",
   "name": "python",
   "nbconvert_exporter": "python",
   "pygments_lexer": "ipython3",
   "version": "3.12.0"
  }
 },
 "nbformat": 4,
 "nbformat_minor": 2
}
